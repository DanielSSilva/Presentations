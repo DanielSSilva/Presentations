{
 "cells": [
  {
   "attachments": {},
   "cell_type": "markdown",
   "metadata": {},
   "source": [
    "A simple test can be to test against a single storage account for a given customer"
   ]
  },
  {
   "cell_type": "code",
   "execution_count": null,
   "metadata": {
    "dotnet_interactive": {
     "language": "pwsh"
    },
    "polyglot_notebook": {
     "kernelName": "pwsh"
    }
   },
   "outputs": [],
   "source": [
    "Connect-AzAccount | Out-Null\n",
    "$data = @{ \n",
    "    storageAccountName = \"stcustomer1denydev\"; \n",
    "    customerName = \"customer1\";\n",
    "    environment = \"dev\"\n",
    "}\n",
    "\n",
    "$container = New-PesterContainer -Path './SingleStorageAccountsAccess.Tests.ps1' -Data $data\n",
    "Invoke-Pester -Container $container -Output Detailed"
   ]
  },
  {
   "attachments": {},
   "cell_type": "markdown",
   "metadata": {},
   "source": [
    "But you can also test against all storage accounts for a single customer"
   ]
  },
  {
   "cell_type": "code",
   "execution_count": null,
   "metadata": {
    "dotnet_interactive": {
     "language": "pwsh"
    },
    "polyglot_notebook": {
     "kernelName": "pwsh"
    }
   },
   "outputs": [],
   "source": [
    "# Connect-AzAccount | Out-Null\n",
    "$data = @{ \n",
    "    customerName = \"customer1\"; \n",
    "    environment = \"stg\" \n",
    "\n",
    "}\n",
    "$container = New-PesterContainer -Path './SingleCustomerAllStorageAccountsAccess.Tests.ps1' -Data $data\n",
    "Invoke-Pester -Container $container  -Output Detailed"
   ]
  },
  {
   "cell_type": "code",
   "execution_count": null,
   "metadata": {
    "dotnet_interactive": {
     "language": "pwsh"
    },
    "polyglot_notebook": {
     "kernelName": "pwsh"
    }
   },
   "outputs": [],
   "source": [
    "Connect-AzAccount | Out-Null\n",
    "Invoke-Pester -Path './StorageAccountReport.Tests.ps1' -Output Detailed"
   ]
  },
  {
   "cell_type": "code",
   "execution_count": null,
   "metadata": {
    "dotnet_interactive": {
     "language": "pwsh"
    },
    "polyglot_notebook": {
     "kernelName": "pwsh"
    }
   },
   "outputs": [],
   "source": [
    "Connect-AzAccount | Out-Null\n",
    "$data = @{ \n",
    "    daysLimit = 15\n",
    "}\n",
    "$container = New-PesterContainer -Path './StorageAccountReport.Tests.ps1' -Data $data\n",
    "Invoke-Pester -Container $container -Output Detailed"
   ]
  }
 ],
 "metadata": {
  "kernelspec": {
   "display_name": ".NET (C#)",
   "language": "C#",
   "name": ".net-csharp"
  },
  "language_info": {
   "name": "polyglot-notebook"
  },
  "polyglot_notebook": {
   "kernelInfo": {
    "defaultKernelName": "csharp",
    "items": [
     {
      "aliases": [
       "C#",
       "c#"
      ],
      "languageName": "C#",
      "name": "csharp"
     },
     {
      "aliases": [],
      "languageName": "HTML",
      "name": "html"
     },
     {
      "aliases": [
       "js"
      ],
      "languageName": "JavaScript",
      "name": "javascript"
     },
     {
      "aliases": [
       "powershell"
      ],
      "languageName": "PowerShell",
      "name": "pwsh"
     },
     {
      "aliases": [
       "frontend"
      ],
      "name": "vscode"
     },
     {
      "aliases": [],
      "name": "webview"
     }
    ]
   }
  }
 },
 "nbformat": 4,
 "nbformat_minor": 2
}
