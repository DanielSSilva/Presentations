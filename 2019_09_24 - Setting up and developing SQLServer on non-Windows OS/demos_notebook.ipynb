{
    "metadata": {
        "kernelspec": {
            "name": "SQL",
            "display_name": "SQL",
            "language": "sql"
        },
        "language_info": {
            "name": "sql",
            "version": ""
        }
    },
    "nbformat_minor": 2,
    "nbformat": 4,
    "cells": [
        {
            "cell_type": "markdown",
            "source": [
                "<h1> Getting started </h1>\n",
                "\n",
                "<h2> Let's create and launch a container </h2>\n",
                "\n",
                "<a href=\"command:workbench.action.terminal.sendSequence?%7B%22text%22%3A%22 clear \\n docker run --name \\u0027sql2017-CU1-ubuntu\\u0027 -e \\u0027ACCEPT_EULA%3dY\\u0027 -e \\u0027MSSQL_SA_PASSWORD%3dSqlPort2019\\u0027 -p 1443:1433 -d mcr.microsoft.com%2fmssql%2fserver:2017-CU1-ubuntu \\u000D %22%7D\">Container with SQLServer 2017-CU1-ubuntu</a>. This is mapped to a different port (1443), so that we can have more than one  container and access them through ADS :)\n",
                "```\n",
                "docker run \\\n",
                "    --name 'sql2017-CU1-ubuntu' \\\n",
                "    -e 'ACCEPT_EULA=Y' -e 'MSSQL_SA_PASSWORD=SqlPort2019' \\\n",
                "    -p 1443:1433 \\\n",
                "    -d mcr.microsoft.com/mssql/server:2017-CU1-ubuntu\n",
                "```\n",
                "Attach notebook to database (port 1443)"
            ],
            "metadata": {
                "azdata_cell_guid": "e028c8b8-40af-4c3f-a75d-fa4b18b49058"
            }
        },
        {
            "cell_type": "code",
            "source": [
                "SELECT @@version"
            ],
            "metadata": {
                "azdata_cell_guid": "c74e8f2a-ba9f-4847-9e3e-a5973514c4db"
            },
            "outputs": [],
            "execution_count": 1
        },
        {
            "cell_type": "markdown",
            "source": [
                "<a href=\"command:workbench.action.terminal.sendSequence?%7B%22text%22%3A%22 clear \\n docker run --name \\u0027sql2019-latest\\u0027 -e \\u0027ACCEPT_EULA%3dY\\u0027 -e \\u0027MSSQL_SA_PASSWORD%3dSqlPort2019\\u0027 -p 1433:1433 -d mcr.microsoft.com%2fmssql%2fserver:2019-latest \\u000D %22%7D\">Launch a container with SQLServer 2019-latest</a>\n",
                "```\n",
                "docker run \\\n",
                "    --name 'sql2019-latest' \\\n",
                "    -e 'ACCEPT_EULA=Y' -e 'MSSQL_SA_PASSWORD=SqlPort2019' \\\n",
                "    -p 1433:1433 \\\n",
                "    -d mcr.microsoft.com/mssql/server:2019-latest\n",
                "```\n",
                "\n",
                "Change the database connection to the new one"
            ],
            "metadata": {
                "azdata_cell_guid": "396d589d-2263-4bfd-b565-418f98e64059"
            }
        },
        {
            "cell_type": "code",
            "source": [
                "SELECT @@version"
            ],
            "metadata": {
                "azdata_cell_guid": "2c8227aa-dc18-4ad4-8e28-d94a86bed4de"
            },
            "outputs": [],
            "execution_count": 2
        },
        {
            "cell_type": "markdown",
            "source": [
                "<h3><a href=\"command:workbench.action.terminal.sendSequence?%7B%22text%22%3A%22 clear \\n docker run --name \\u0027sql2019-latest-Enterprise\\u0027 -e \\u0027ACCEPT_EULA%3dY\\u0027 -e \\u0027MSSQL_SA_PASSWORD%3dSqlPort2019\\u0027 -e \\u0027MSSQL_PID%3dEnterprise\\u0027 -p 1453:1433 -d mcr.microsoft.com%2fmssql%2fserver:2019-latest \\u000D %22%7D\">We can even run Enterprise edition!</a></h3>\n",
                "This one is mapped to port 1453. Again, change the connection to the new one (port 1453)\n",
                "\n",
                "```\n",
                "docker run \\\n",
                "    --name 'sql2019-latest-Enterprise' \\\n",
                "    -e 'ACCEPT_EULA=Y' -e 'MSSQL_SA_PASSWORD=SqlPort2019' \\\n",
                "    -e 'MSSQL_PID=Enterprise'\n",
                "    -p 1453:1433 \\\n",
                "    -d mcr.microsoft.com/mssql/server:2019-latest\n",
                "```\n",
                ""
            ],
            "metadata": {
                "azdata_cell_guid": "a3bd5c88-4af3-4e68-8ee8-6f22d553518b"
            }
        },
        {
            "cell_type": "code",
            "source": [
                "SELECT @@version"
            ],
            "metadata": {
                "azdata_cell_guid": "c758cd71-7450-4aa8-b75d-d5c74b5ecdaa"
            },
            "outputs": [],
            "execution_count": 3
        },
        {
            "cell_type": "markdown",
            "source": [
                "<h1> Creating a container with mounted volumes </h1>\n",
                "\n",
                "Let's <a href=\"command:workbench.action.terminal.sendSequence?%7B%22text%22%3A%22 clear \\n docker stop sql2019-latest \\u000D %22%7D\">stop the previous container</a> (just so that we can use the default port to be easier :) ) and <a href=\"command:workbench.action.terminal.sendSequence?%7B%22text%22%3A%22 clear \\n docker run --name \\u0027sql2017_w_mountedVolumes\\u0027 -e \\u0027ACCEPT_EULA%3dY\\u0027 -e \\u0027MSSQL_SA_PASSWORD%3dSqlPort2019\\u0027 -p 1433:1433 -v sqlPortdata:%2fvar%2fopt%2fmssql -v %2fUsers%2fdaniel%2fDocuments%2fProjects%2fPresentations%2fSqlPort%2fbackups:%2fbackup -d mcr.microsoft.com%2fmssql%2fserver:2017-CU1-ubuntu \\u000D %22%7D\">launch a new one with mounted volumes</a>.\n",
                "```\n",
                "docker stop sql2019-latest\n",
                "\n",
                "docker run \\\n",
                "    --name 'sql2017_w_mountedVolumes' \\\n",
                "    -e 'ACCEPT_EULA=Y' -e 'MSSQL_SA_PASSWORD=SqlPort2019' \\\n",
                "    -p 1433:1433 \\\n",
                "    -v sqlPortdata:/var/opt/mssql \\\n",
                "    -v /Users/daniel/Documents/Projects/Presentations/SqlPort/backups:/backup \\\n",
                "    -d mcr.microsoft.com/mssql/server:2017-CU1-ubuntu\n",
                "```"
            ],
            "metadata": {
                "azdata_cell_guid": "50c50133-bb63-4403-a340-2a92896364f7"
            }
        },
        {
            "cell_type": "code",
            "source": [
                "SELECT @@VERSION"
            ],
            "metadata": {
                "azdata_cell_guid": "8ef26ae5-d2cb-46ac-ab55-ce361d5053e3"
            },
            "outputs": [],
            "execution_count": 4
        },
        {
            "cell_type": "markdown",
            "source": [
                "In order to have some data, create a new database, a new table and insert some data into it."
            ],
            "metadata": {
                "azdata_cell_guid": "ab7f9e88-b97e-4c4b-a1a4-2a931d056b9e"
            }
        },
        {
            "cell_type": "code",
            "source": [
                "CREATE DATABASE SqlPort2019\n",
                "GO\n",
                "USE SqlPort2019\n",
                "CREATE TABLE Person(\n",
                "    Id int IDENTITY(1,1),\n",
                "    [name] nvarchar(50),\n",
                "    age int\n",
                ")\n",
                "INSERT INTO Person([name], age) VALUES\n",
                "    ('Daniel', 25),\n",
                "    ('Zeca', 40)\n",
                "SELECT *\n",
                "FROM Person"
            ],
            "metadata": {
                "azdata_cell_guid": "c84d9e69-911b-4e3a-aaa8-a1b1d0cb8cc2"
            },
            "outputs": [],
            "execution_count": 5
        },
        {
            "cell_type": "markdown",
            "source": [
                "Now let's <a href=\"command:workbench.action.terminal.sendSequence?%7B%22text%22%3A%22 clear \\n docker stop sql2017_w_mountedVolumes \\u000D %22%7D\">stop</a> and <a href=\"command:workbench.action.terminal.sendSequence?%7B%22text%22%3A%22 clear \\n docker rm sql2017_w_mountedVolumes \\u000D %22%7D\">remove</a> the container, and <a href=\"command:workbench.action.terminal.sendSequence?%7B%22text%22%3A%22 clear \\n docker run --name \\u0027sql2019_w_mountedVolumes\\u0027 -e \\u0027ACCEPT_EULA%3dY\\u0027 -e \\u0027MSSQL_SA_PASSWORD%3dSqlPort2019\\u0027 -p 1433:1433 -v sqlPortdata:%2fvar%2fopt%2fmssql -v %2fUsers%2fdaniel%2fDocuments%2fProjects%2fPresentations%2fSqlPort%2fbackups:%2fbackup -d mcr.microsoft.com%2fmssql%2fserver:2019-latest \\u000D %22%7D\">launch a new one with the 2019 version</a>.\n",
                "\n",
                "```\n",
                "docker stop sql2017_w_mountedVolumes\n",
                "docker rm sql2017_w_mountedVolumes\n",
                "\n",
                "docker run \\\n",
                "    --name 'sql2019_w_mountedVolumes' \\\n",
                "    -e 'ACCEPT_EULA=Y' -e 'MSSQL_SA_PASSWORD=SqlPort2019' \\\n",
                "    -p 1433:1433 \\\n",
                "    -v sqlPortdata:/var/opt/mssql \\\n",
                "    -v /Users/daniel/Documents/Projects/Presentations/SqlPort/backups:/backup \\\n",
                "    -d mcr.microsoft.com/mssql/server:2019-latest\n",
                "\n",
                "```"
            ],
            "metadata": {
                "azdata_cell_guid": "d05d5da9-96bc-4bcd-8d03-3832bb74efc4"
            }
        },
        {
            "cell_type": "code",
            "source": [
                "SELECT @@VERSION"
            ],
            "metadata": {
                "azdata_cell_guid": "8f5f30fb-f7c4-4d5d-88ec-3c0d4e4097e9"
            },
            "outputs": [
                {
                    "output_type": "display_data",
                    "data": {
                        "text/html": "(1 row affected)"
                    },
                    "metadata": {}
                },
                {
                    "output_type": "display_data",
                    "data": {
                        "text/html": "Total execution time: 00:00:00.008"
                    },
                    "metadata": {}
                },
                {
                    "output_type": "execute_result",
                    "metadata": {},
                    "execution_count": 9,
                    "data": {
                        "application/vnd.dataresource+json": {
                            "schema": {
                                "fields": [
                                    {
                                        "name": "(No column name)"
                                    }
                                ]
                            },
                            "data": [
                                {
                                    "0": "Microsoft SQL Server 2019 (RC1) - 15.0.1900.25 (X64) \n\tAug 16 2019 14:20:53 \n\tCopyright (C) 2019 Microsoft Corporation\n\tDeveloper Edition (64-bit) on Linux (Ubuntu 16.04.6 LTS) <X64>"
                                }
                            ]
                        },
                        "text/html": "<table><tr><th>(No column name)</th></tr><tr><td>Microsoft SQL Server 2019 (RC1) - 15.0.1900.25 (X64) \n\tAug 16 2019 14:20:53 \n\tCopyright (C) 2019 Microsoft Corporation\n\tDeveloper Edition (64-bit) on Linux (Ubuntu 16.04.6 LTS) &lt;X64&gt;</td></tr></table>"
                    }
                }
            ],
            "execution_count": 9
        },
        {
            "cell_type": "code",
            "source": [
                "USE SqlPort2019\n",
                "SELECT *\n",
                "FROM Person"
            ],
            "metadata": {
                "azdata_cell_guid": "e090e695-d8a7-492d-93e4-a64440be8bd4"
            },
            "outputs": [
                {
                    "output_type": "display_data",
                    "data": {
                        "text/html": "(2 rows affected)"
                    },
                    "metadata": {}
                },
                {
                    "output_type": "display_data",
                    "data": {
                        "text/html": "Total execution time: 00:00:00.038"
                    },
                    "metadata": {}
                },
                {
                    "output_type": "execute_result",
                    "metadata": {},
                    "execution_count": 10,
                    "data": {
                        "application/vnd.dataresource+json": {
                            "schema": {
                                "fields": [
                                    {
                                        "name": "Id"
                                    },
                                    {
                                        "name": "name"
                                    },
                                    {
                                        "name": "age"
                                    }
                                ]
                            },
                            "data": [
                                {
                                    "0": "1",
                                    "1": "Daniel",
                                    "2": "25"
                                },
                                {
                                    "0": "2",
                                    "1": "Zeca",
                                    "2": "40"
                                }
                            ]
                        },
                        "text/html": "<table><tr><th>Id</th><th>name</th><th>age</th></tr><tr><td>1</td><td>Daniel</td><td>25</td></tr><tr><td>2</td><td>Zeca</td><td>40</td></tr></table>"
                    }
                }
            ],
            "execution_count": 10
        },
        {
            "cell_type": "markdown",
            "source": [
                "<h2>Backup through Azure Data Studio</h2>\n",
                "\n",
                "Here is the script that the ADS creates for backup"
            ],
            "metadata": {
                "azdata_cell_guid": "2cddc76b-fdbf-4b74-859c-3e3209a89f1e"
            }
        },
        {
            "cell_type": "code",
            "source": [
                "BACKUP DATABASE [SqlPort2019] TO  DISK = N'/backup/SqlPort2019.bak' WITH NOFORMAT, NOINIT,  \n",
                "                                  NAME = N'SqlPort2019', NOSKIP, REWIND, NOUNLOAD,  STATS = 10"
            ],
            "metadata": {
                "azdata_cell_guid": "9d371e8a-1336-4a16-afee-6a27fc26ffa5"
            },
            "outputs": [],
            "execution_count": 3
        },
        {
            "cell_type": "markdown",
            "source": [
                "<h2 id='restoring'>Restoring</h2> \n",
                "Just to make sure that I'm not tricking you, let's <a href=\"command:workbench.action.terminal.sendSequence?%7B%22text%22%3A%22 clear \\n docker stop sql2019_w_mountedVolumes \\u000D %22%7D\">stop</a> and <a href=\"command:workbench.action.terminal.sendSequence?%7B%22text%22%3A%22 clear \\n docker rm sql2019_w_mountedVolumes \\u000D %22%7D\">remove</a> the container we just used to create the database, and let's <a href=\"command:workbench.action.terminal.sendSequence?%7B%22text%22%3A%22 clear \\n docker run --name \\u0027sql2019_w_mountedVolumes\\u0027 -e \\u0027ACCEPT_EULA%3dY\\u0027 -e \\u0027MSSQL_SA_PASSWORD%3dSqlPort2019\\u0027 -p 1433:1433 -v %2fUsers%2fdaniel%2fDocuments%2fProjects%2fPresentations%2fSqlPort%2fbackups:%2fbackup -d mcr.microsoft.com%2fmssql%2fserver:2019-latest \\u000D %22%7D\">create a new one</a>, this time only with the backup folder mounted. \n",
                "\n",
                "```\n",
                "docker stop sql2019_w_mountedVolumes\n",
                "docker rm sql2019_w_mountedVolumes\n",
                "\n",
                "docker run \\\n",
                "    --name 'sql2019_w_mountedVolumes' \\\n",
                "    -e 'ACCEPT_EULA=Y' -e 'MSSQL_SA_PASSWORD=SqlPort2019' \\\n",
                "    -p 1433:1433 \\\n",
                "    -v /Users/daniel/Documents/Projects/Presentations/SqlPort/backups:/backup \\\n",
                "    -d mcr.microsoft.com/mssql/server:2019-latest\n",
                "```\n",
                "Let's confirm that the database does not exist"
            ],
            "metadata": {
                "azdata_cell_guid": "0adf17d3-e146-4797-ac30-9ab45cded4c4"
            }
        },
        {
            "cell_type": "code",
            "source": [
                "SELECT *\n",
                "FROM sys.databases"
            ],
            "metadata": {
                "azdata_cell_guid": "3b0560e5-4605-428e-943d-cd259fbb0abd"
            },
            "outputs": [
                {
                    "output_type": "display_data",
                    "data": {
                        "text/html": "(4 rows affected)"
                    },
                    "metadata": {}
                },
                {
                    "output_type": "display_data",
                    "data": {
                        "text/html": "Total execution time: 00:00:01.365"
                    },
                    "metadata": {}
                },
                {
                    "output_type": "execute_result",
                    "metadata": {},
                    "execution_count": 15,
                    "data": {
                        "application/vnd.dataresource+json": {
                            "schema": {
                                "fields": [
                                    {
                                        "name": "name"
                                    },
                                    {
                                        "name": "database_id"
                                    },
                                    {
                                        "name": "source_database_id"
                                    },
                                    {
                                        "name": "owner_sid"
                                    },
                                    {
                                        "name": "create_date"
                                    },
                                    {
                                        "name": "compatibility_level"
                                    },
                                    {
                                        "name": "collation_name"
                                    },
                                    {
                                        "name": "user_access"
                                    },
                                    {
                                        "name": "user_access_desc"
                                    },
                                    {
                                        "name": "is_read_only"
                                    },
                                    {
                                        "name": "is_auto_close_on"
                                    },
                                    {
                                        "name": "is_auto_shrink_on"
                                    },
                                    {
                                        "name": "state"
                                    },
                                    {
                                        "name": "state_desc"
                                    },
                                    {
                                        "name": "is_in_standby"
                                    },
                                    {
                                        "name": "is_cleanly_shutdown"
                                    },
                                    {
                                        "name": "is_supplemental_logging_enabled"
                                    },
                                    {
                                        "name": "snapshot_isolation_state"
                                    },
                                    {
                                        "name": "snapshot_isolation_state_desc"
                                    },
                                    {
                                        "name": "is_read_committed_snapshot_on"
                                    },
                                    {
                                        "name": "recovery_model"
                                    },
                                    {
                                        "name": "recovery_model_desc"
                                    },
                                    {
                                        "name": "page_verify_option"
                                    },
                                    {
                                        "name": "page_verify_option_desc"
                                    },
                                    {
                                        "name": "is_auto_create_stats_on"
                                    },
                                    {
                                        "name": "is_auto_create_stats_incremental_on"
                                    },
                                    {
                                        "name": "is_auto_update_stats_on"
                                    },
                                    {
                                        "name": "is_auto_update_stats_async_on"
                                    },
                                    {
                                        "name": "is_ansi_null_default_on"
                                    },
                                    {
                                        "name": "is_ansi_nulls_on"
                                    },
                                    {
                                        "name": "is_ansi_padding_on"
                                    },
                                    {
                                        "name": "is_ansi_warnings_on"
                                    },
                                    {
                                        "name": "is_arithabort_on"
                                    },
                                    {
                                        "name": "is_concat_null_yields_null_on"
                                    },
                                    {
                                        "name": "is_numeric_roundabort_on"
                                    },
                                    {
                                        "name": "is_quoted_identifier_on"
                                    },
                                    {
                                        "name": "is_recursive_triggers_on"
                                    },
                                    {
                                        "name": "is_cursor_close_on_commit_on"
                                    },
                                    {
                                        "name": "is_local_cursor_default"
                                    },
                                    {
                                        "name": "is_fulltext_enabled"
                                    },
                                    {
                                        "name": "is_trustworthy_on"
                                    },
                                    {
                                        "name": "is_db_chaining_on"
                                    },
                                    {
                                        "name": "is_parameterization_forced"
                                    },
                                    {
                                        "name": "is_master_key_encrypted_by_server"
                                    },
                                    {
                                        "name": "is_query_store_on"
                                    },
                                    {
                                        "name": "is_published"
                                    },
                                    {
                                        "name": "is_subscribed"
                                    },
                                    {
                                        "name": "is_merge_published"
                                    },
                                    {
                                        "name": "is_distributor"
                                    },
                                    {
                                        "name": "is_sync_with_backup"
                                    },
                                    {
                                        "name": "service_broker_guid"
                                    },
                                    {
                                        "name": "is_broker_enabled"
                                    },
                                    {
                                        "name": "log_reuse_wait"
                                    },
                                    {
                                        "name": "log_reuse_wait_desc"
                                    },
                                    {
                                        "name": "is_date_correlation_on"
                                    },
                                    {
                                        "name": "is_cdc_enabled"
                                    },
                                    {
                                        "name": "is_encrypted"
                                    },
                                    {
                                        "name": "is_honor_broker_priority_on"
                                    },
                                    {
                                        "name": "replica_id"
                                    },
                                    {
                                        "name": "group_database_id"
                                    },
                                    {
                                        "name": "resource_pool_id"
                                    },
                                    {
                                        "name": "default_language_lcid"
                                    },
                                    {
                                        "name": "default_language_name"
                                    },
                                    {
                                        "name": "default_fulltext_language_lcid"
                                    },
                                    {
                                        "name": "default_fulltext_language_name"
                                    },
                                    {
                                        "name": "is_nested_triggers_on"
                                    },
                                    {
                                        "name": "is_transform_noise_words_on"
                                    },
                                    {
                                        "name": "two_digit_year_cutoff"
                                    },
                                    {
                                        "name": "containment"
                                    },
                                    {
                                        "name": "containment_desc"
                                    },
                                    {
                                        "name": "target_recovery_time_in_seconds"
                                    },
                                    {
                                        "name": "delayed_durability"
                                    },
                                    {
                                        "name": "delayed_durability_desc"
                                    },
                                    {
                                        "name": "is_memory_optimized_elevate_to_snapshot_on"
                                    },
                                    {
                                        "name": "is_federation_member"
                                    },
                                    {
                                        "name": "is_remote_data_archive_enabled"
                                    },
                                    {
                                        "name": "is_mixed_page_allocation_on"
                                    },
                                    {
                                        "name": "is_temporal_history_retention_enabled"
                                    },
                                    {
                                        "name": "catalog_collation_type"
                                    },
                                    {
                                        "name": "catalog_collation_type_desc"
                                    },
                                    {
                                        "name": "physical_database_name"
                                    },
                                    {
                                        "name": "is_result_set_caching_on"
                                    },
                                    {
                                        "name": "is_accelerated_database_recovery_on"
                                    },
                                    {
                                        "name": "is_tempdb_spill_to_remote_store"
                                    },
                                    {
                                        "name": "is_stale_page_detection_on"
                                    },
                                    {
                                        "name": "is_memory_optimized_enabled"
                                    }
                                ]
                            },
                            "data": [
                                {
                                    "0": "master",
                                    "1": "1",
                                    "2": "NULL",
                                    "3": "0x01",
                                    "4": "2003-04-08 09:13:36.390",
                                    "5": "150",
                                    "6": "SQL_Latin1_General_CP1_CI_AS",
                                    "7": "0",
                                    "8": "MULTI_USER",
                                    "9": "0",
                                    "10": "0",
                                    "11": "0",
                                    "12": "0",
                                    "13": "ONLINE",
                                    "14": "0",
                                    "15": "0",
                                    "16": "0",
                                    "17": "1",
                                    "18": "ON",
                                    "19": "0",
                                    "20": "3",
                                    "21": "SIMPLE",
                                    "22": "2",
                                    "23": "CHECKSUM",
                                    "24": "1",
                                    "25": "0",
                                    "26": "1",
                                    "27": "0",
                                    "28": "0",
                                    "29": "0",
                                    "30": "0",
                                    "31": "0",
                                    "32": "0",
                                    "33": "0",
                                    "34": "0",
                                    "35": "0",
                                    "36": "0",
                                    "37": "0",
                                    "38": "0",
                                    "39": "0",
                                    "40": "0",
                                    "41": "1",
                                    "42": "0",
                                    "43": "0",
                                    "44": "0",
                                    "45": "0",
                                    "46": "0",
                                    "47": "0",
                                    "48": "0",
                                    "49": "0",
                                    "50": "00000000-0000-0000-0000-000000000000",
                                    "51": "0",
                                    "52": "0",
                                    "53": "NOTHING",
                                    "54": "0",
                                    "55": "0",
                                    "56": "0",
                                    "57": "0",
                                    "58": "NULL",
                                    "59": "NULL",
                                    "60": "NULL",
                                    "61": "NULL",
                                    "62": "NULL",
                                    "63": "NULL",
                                    "64": "NULL",
                                    "65": "NULL",
                                    "66": "NULL",
                                    "67": "NULL",
                                    "68": "0",
                                    "69": "NONE",
                                    "70": "0",
                                    "71": "0",
                                    "72": "DISABLED",
                                    "73": "0",
                                    "74": "0",
                                    "75": "0",
                                    "76": "1",
                                    "77": "1",
                                    "78": "0",
                                    "79": "DATABASE_DEFAULT",
                                    "80": "master",
                                    "81": "0",
                                    "82": "0",
                                    "83": "0",
                                    "84": "0",
                                    "85": "1"
                                },
                                {
                                    "0": "tempdb",
                                    "1": "2",
                                    "2": "NULL",
                                    "3": "0x01",
                                    "4": "2019-09-24 20:43:46.707",
                                    "5": "150",
                                    "6": "SQL_Latin1_General_CP1_CI_AS",
                                    "7": "0",
                                    "8": "MULTI_USER",
                                    "9": "0",
                                    "10": "0",
                                    "11": "0",
                                    "12": "0",
                                    "13": "ONLINE",
                                    "14": "0",
                                    "15": "0",
                                    "16": "0",
                                    "17": "0",
                                    "18": "OFF",
                                    "19": "0",
                                    "20": "3",
                                    "21": "SIMPLE",
                                    "22": "2",
                                    "23": "CHECKSUM",
                                    "24": "1",
                                    "25": "0",
                                    "26": "1",
                                    "27": "0",
                                    "28": "0",
                                    "29": "0",
                                    "30": "0",
                                    "31": "0",
                                    "32": "0",
                                    "33": "0",
                                    "34": "0",
                                    "35": "0",
                                    "36": "0",
                                    "37": "0",
                                    "38": "0",
                                    "39": "0",
                                    "40": "0",
                                    "41": "1",
                                    "42": "0",
                                    "43": "0",
                                    "44": "0",
                                    "45": "0",
                                    "46": "0",
                                    "47": "0",
                                    "48": "0",
                                    "49": "0",
                                    "50": "0e7fa998-68e7-4c88-8637-96d75972d644",
                                    "51": "1",
                                    "52": "0",
                                    "53": "NOTHING",
                                    "54": "0",
                                    "55": "0",
                                    "56": "0",
                                    "57": "0",
                                    "58": "NULL",
                                    "59": "NULL",
                                    "60": "NULL",
                                    "61": "NULL",
                                    "62": "NULL",
                                    "63": "NULL",
                                    "64": "NULL",
                                    "65": "NULL",
                                    "66": "NULL",
                                    "67": "NULL",
                                    "68": "0",
                                    "69": "NONE",
                                    "70": "60",
                                    "71": "0",
                                    "72": "DISABLED",
                                    "73": "0",
                                    "74": "0",
                                    "75": "0",
                                    "76": "0",
                                    "77": "1",
                                    "78": "0",
                                    "79": "DATABASE_DEFAULT",
                                    "80": "tempdb",
                                    "81": "0",
                                    "82": "0",
                                    "83": "0",
                                    "84": "0",
                                    "85": "1"
                                },
                                {
                                    "0": "model",
                                    "1": "3",
                                    "2": "NULL",
                                    "3": "0x01",
                                    "4": "2003-04-08 09:13:36.390",
                                    "5": "150",
                                    "6": "SQL_Latin1_General_CP1_CI_AS",
                                    "7": "0",
                                    "8": "MULTI_USER",
                                    "9": "0",
                                    "10": "0",
                                    "11": "0",
                                    "12": "0",
                                    "13": "ONLINE",
                                    "14": "0",
                                    "15": "0",
                                    "16": "0",
                                    "17": "0",
                                    "18": "OFF",
                                    "19": "0",
                                    "20": "1",
                                    "21": "FULL",
                                    "22": "2",
                                    "23": "CHECKSUM",
                                    "24": "1",
                                    "25": "0",
                                    "26": "1",
                                    "27": "0",
                                    "28": "0",
                                    "29": "0",
                                    "30": "0",
                                    "31": "0",
                                    "32": "0",
                                    "33": "0",
                                    "34": "0",
                                    "35": "0",
                                    "36": "0",
                                    "37": "0",
                                    "38": "0",
                                    "39": "0",
                                    "40": "0",
                                    "41": "0",
                                    "42": "0",
                                    "43": "0",
                                    "44": "0",
                                    "45": "0",
                                    "46": "0",
                                    "47": "0",
                                    "48": "0",
                                    "49": "0",
                                    "50": "00000000-0000-0000-0000-000000000000",
                                    "51": "0",
                                    "52": "0",
                                    "53": "NOTHING",
                                    "54": "0",
                                    "55": "0",
                                    "56": "0",
                                    "57": "0",
                                    "58": "NULL",
                                    "59": "NULL",
                                    "60": "NULL",
                                    "61": "NULL",
                                    "62": "NULL",
                                    "63": "NULL",
                                    "64": "NULL",
                                    "65": "NULL",
                                    "66": "NULL",
                                    "67": "NULL",
                                    "68": "0",
                                    "69": "NONE",
                                    "70": "60",
                                    "71": "0",
                                    "72": "DISABLED",
                                    "73": "0",
                                    "74": "0",
                                    "75": "0",
                                    "76": "1",
                                    "77": "1",
                                    "78": "0",
                                    "79": "DATABASE_DEFAULT",
                                    "80": "model",
                                    "81": "0",
                                    "82": "0",
                                    "83": "0",
                                    "84": "0",
                                    "85": "1"
                                },
                                {
                                    "0": "msdb",
                                    "1": "4",
                                    "2": "NULL",
                                    "3": "0x01",
                                    "4": "2019-08-16 15:01:15.710",
                                    "5": "150",
                                    "6": "SQL_Latin1_General_CP1_CI_AS",
                                    "7": "0",
                                    "8": "MULTI_USER",
                                    "9": "0",
                                    "10": "0",
                                    "11": "0",
                                    "12": "2",
                                    "13": "RECOVERING",
                                    "14": "0",
                                    "15": "0",
                                    "16": "0",
                                    "17": "0",
                                    "18": "OFF",
                                    "19": "0",
                                    "20": "3",
                                    "21": "SIMPLE",
                                    "22": "2",
                                    "23": "CHECKSUM",
                                    "24": "1",
                                    "25": "0",
                                    "26": "1",
                                    "27": "0",
                                    "28": "0",
                                    "29": "0",
                                    "30": "0",
                                    "31": "0",
                                    "32": "0",
                                    "33": "0",
                                    "34": "0",
                                    "35": "0",
                                    "36": "0",
                                    "37": "0",
                                    "38": "0",
                                    "39": "1",
                                    "40": "1",
                                    "41": "1",
                                    "42": "0",
                                    "43": "0",
                                    "44": "0",
                                    "45": "0",
                                    "46": "0",
                                    "47": "0",
                                    "48": "0",
                                    "49": "0",
                                    "50": "3ac42849-c8ea-4f13-bb63-714b339faa83",
                                    "51": "1",
                                    "52": "0",
                                    "53": "NOTHING",
                                    "54": "0",
                                    "55": "0",
                                    "56": "0",
                                    "57": "0",
                                    "58": "NULL",
                                    "59": "NULL",
                                    "60": "NULL",
                                    "61": "NULL",
                                    "62": "NULL",
                                    "63": "NULL",
                                    "64": "NULL",
                                    "65": "NULL",
                                    "66": "NULL",
                                    "67": "NULL",
                                    "68": "0",
                                    "69": "NONE",
                                    "70": "60",
                                    "71": "0",
                                    "72": "DISABLED",
                                    "73": "0",
                                    "74": "0",
                                    "75": "0",
                                    "76": "0",
                                    "77": "1",
                                    "78": "0",
                                    "79": "DATABASE_DEFAULT",
                                    "80": "msdb",
                                    "81": "0",
                                    "82": "0",
                                    "83": "0",
                                    "84": "0",
                                    "85": "1"
                                }
                            ]
                        },
                        "text/html": "<table><tr><th>name</th><th>database_id</th><th>source_database_id</th><th>owner_sid</th><th>create_date</th><th>compatibility_level</th><th>collation_name</th><th>user_access</th><th>user_access_desc</th><th>is_read_only</th><th>is_auto_close_on</th><th>is_auto_shrink_on</th><th>state</th><th>state_desc</th><th>is_in_standby</th><th>is_cleanly_shutdown</th><th>is_supplemental_logging_enabled</th><th>snapshot_isolation_state</th><th>snapshot_isolation_state_desc</th><th>is_read_committed_snapshot_on</th><th>recovery_model</th><th>recovery_model_desc</th><th>page_verify_option</th><th>page_verify_option_desc</th><th>is_auto_create_stats_on</th><th>is_auto_create_stats_incremental_on</th><th>is_auto_update_stats_on</th><th>is_auto_update_stats_async_on</th><th>is_ansi_null_default_on</th><th>is_ansi_nulls_on</th><th>is_ansi_padding_on</th><th>is_ansi_warnings_on</th><th>is_arithabort_on</th><th>is_concat_null_yields_null_on</th><th>is_numeric_roundabort_on</th><th>is_quoted_identifier_on</th><th>is_recursive_triggers_on</th><th>is_cursor_close_on_commit_on</th><th>is_local_cursor_default</th><th>is_fulltext_enabled</th><th>is_trustworthy_on</th><th>is_db_chaining_on</th><th>is_parameterization_forced</th><th>is_master_key_encrypted_by_server</th><th>is_query_store_on</th><th>is_published</th><th>is_subscribed</th><th>is_merge_published</th><th>is_distributor</th><th>is_sync_with_backup</th><th>service_broker_guid</th><th>is_broker_enabled</th><th>log_reuse_wait</th><th>log_reuse_wait_desc</th><th>is_date_correlation_on</th><th>is_cdc_enabled</th><th>is_encrypted</th><th>is_honor_broker_priority_on</th><th>replica_id</th><th>group_database_id</th><th>resource_pool_id</th><th>default_language_lcid</th><th>default_language_name</th><th>default_fulltext_language_lcid</th><th>default_fulltext_language_name</th><th>is_nested_triggers_on</th><th>is_transform_noise_words_on</th><th>two_digit_year_cutoff</th><th>containment</th><th>containment_desc</th><th>target_recovery_time_in_seconds</th><th>delayed_durability</th><th>delayed_durability_desc</th><th>is_memory_optimized_elevate_to_snapshot_on</th><th>is_federation_member</th><th>is_remote_data_archive_enabled</th><th>is_mixed_page_allocation_on</th><th>is_temporal_history_retention_enabled</th><th>catalog_collation_type</th><th>catalog_collation_type_desc</th><th>physical_database_name</th><th>is_result_set_caching_on</th><th>is_accelerated_database_recovery_on</th><th>is_tempdb_spill_to_remote_store</th><th>is_stale_page_detection_on</th><th>is_memory_optimized_enabled</th></tr><tr><td>master</td><td>1</td><td>NULL</td><td>0x01</td><td>2003-04-08 09:13:36.390</td><td>150</td><td>SQL_Latin1_General_CP1_CI_AS</td><td>0</td><td>MULTI_USER</td><td>0</td><td>0</td><td>0</td><td>0</td><td>ONLINE</td><td>0</td><td>0</td><td>0</td><td>1</td><td>ON</td><td>0</td><td>3</td><td>SIMPLE</td><td>2</td><td>CHECKSUM</td><td>1</td><td>0</td><td>1</td><td>0</td><td>0</td><td>0</td><td>0</td><td>0</td><td>0</td><td>0</td><td>0</td><td>0</td><td>0</td><td>0</td><td>0</td><td>0</td><td>0</td><td>1</td><td>0</td><td>0</td><td>0</td><td>0</td><td>0</td><td>0</td><td>0</td><td>0</td><td>00000000-0000-0000-0000-000000000000</td><td>0</td><td>0</td><td>NOTHING</td><td>0</td><td>0</td><td>0</td><td>0</td><td>NULL</td><td>NULL</td><td>NULL</td><td>NULL</td><td>NULL</td><td>NULL</td><td>NULL</td><td>NULL</td><td>NULL</td><td>NULL</td><td>0</td><td>NONE</td><td>0</td><td>0</td><td>DISABLED</td><td>0</td><td>0</td><td>0</td><td>1</td><td>1</td><td>0</td><td>DATABASE_DEFAULT</td><td>master</td><td>0</td><td>0</td><td>0</td><td>0</td><td>1</td></tr><tr><td>tempdb</td><td>2</td><td>NULL</td><td>0x01</td><td>2019-09-24 20:43:46.707</td><td>150</td><td>SQL_Latin1_General_CP1_CI_AS</td><td>0</td><td>MULTI_USER</td><td>0</td><td>0</td><td>0</td><td>0</td><td>ONLINE</td><td>0</td><td>0</td><td>0</td><td>0</td><td>OFF</td><td>0</td><td>3</td><td>SIMPLE</td><td>2</td><td>CHECKSUM</td><td>1</td><td>0</td><td>1</td><td>0</td><td>0</td><td>0</td><td>0</td><td>0</td><td>0</td><td>0</td><td>0</td><td>0</td><td>0</td><td>0</td><td>0</td><td>0</td><td>0</td><td>1</td><td>0</td><td>0</td><td>0</td><td>0</td><td>0</td><td>0</td><td>0</td><td>0</td><td>0e7fa998-68e7-4c88-8637-96d75972d644</td><td>1</td><td>0</td><td>NOTHING</td><td>0</td><td>0</td><td>0</td><td>0</td><td>NULL</td><td>NULL</td><td>NULL</td><td>NULL</td><td>NULL</td><td>NULL</td><td>NULL</td><td>NULL</td><td>NULL</td><td>NULL</td><td>0</td><td>NONE</td><td>60</td><td>0</td><td>DISABLED</td><td>0</td><td>0</td><td>0</td><td>0</td><td>1</td><td>0</td><td>DATABASE_DEFAULT</td><td>tempdb</td><td>0</td><td>0</td><td>0</td><td>0</td><td>1</td></tr><tr><td>model</td><td>3</td><td>NULL</td><td>0x01</td><td>2003-04-08 09:13:36.390</td><td>150</td><td>SQL_Latin1_General_CP1_CI_AS</td><td>0</td><td>MULTI_USER</td><td>0</td><td>0</td><td>0</td><td>0</td><td>ONLINE</td><td>0</td><td>0</td><td>0</td><td>0</td><td>OFF</td><td>0</td><td>1</td><td>FULL</td><td>2</td><td>CHECKSUM</td><td>1</td><td>0</td><td>1</td><td>0</td><td>0</td><td>0</td><td>0</td><td>0</td><td>0</td><td>0</td><td>0</td><td>0</td><td>0</td><td>0</td><td>0</td><td>0</td><td>0</td><td>0</td><td>0</td><td>0</td><td>0</td><td>0</td><td>0</td><td>0</td><td>0</td><td>0</td><td>00000000-0000-0000-0000-000000000000</td><td>0</td><td>0</td><td>NOTHING</td><td>0</td><td>0</td><td>0</td><td>0</td><td>NULL</td><td>NULL</td><td>NULL</td><td>NULL</td><td>NULL</td><td>NULL</td><td>NULL</td><td>NULL</td><td>NULL</td><td>NULL</td><td>0</td><td>NONE</td><td>60</td><td>0</td><td>DISABLED</td><td>0</td><td>0</td><td>0</td><td>1</td><td>1</td><td>0</td><td>DATABASE_DEFAULT</td><td>model</td><td>0</td><td>0</td><td>0</td><td>0</td><td>1</td></tr><tr><td>msdb</td><td>4</td><td>NULL</td><td>0x01</td><td>2019-08-16 15:01:15.710</td><td>150</td><td>SQL_Latin1_General_CP1_CI_AS</td><td>0</td><td>MULTI_USER</td><td>0</td><td>0</td><td>0</td><td>2</td><td>RECOVERING</td><td>0</td><td>0</td><td>0</td><td>0</td><td>OFF</td><td>0</td><td>3</td><td>SIMPLE</td><td>2</td><td>CHECKSUM</td><td>1</td><td>0</td><td>1</td><td>0</td><td>0</td><td>0</td><td>0</td><td>0</td><td>0</td><td>0</td><td>0</td><td>0</td><td>0</td><td>0</td><td>0</td><td>1</td><td>1</td><td>1</td><td>0</td><td>0</td><td>0</td><td>0</td><td>0</td><td>0</td><td>0</td><td>0</td><td>3ac42849-c8ea-4f13-bb63-714b339faa83</td><td>1</td><td>0</td><td>NOTHING</td><td>0</td><td>0</td><td>0</td><td>0</td><td>NULL</td><td>NULL</td><td>NULL</td><td>NULL</td><td>NULL</td><td>NULL</td><td>NULL</td><td>NULL</td><td>NULL</td><td>NULL</td><td>0</td><td>NONE</td><td>60</td><td>0</td><td>DISABLED</td><td>0</td><td>0</td><td>0</td><td>0</td><td>1</td><td>0</td><td>DATABASE_DEFAULT</td><td>msdb</td><td>0</td><td>0</td><td>0</td><td>0</td><td>1</td></tr></table>"
                    }
                }
            ],
            "execution_count": 15
        },
        {
            "cell_type": "markdown",
            "source": [
                "After performing the restore, we should now see the new database.\n",
                "\n",
                "The script generated by ADS for restore is the following:"
            ],
            "metadata": {
                "azdata_cell_guid": "53611c80-f323-4bf7-a008-dad2d8803eb5"
            }
        },
        {
            "cell_type": "code",
            "source": [
                "USE [master]\n",
                "RESTORE DATABASE [SqlPort2019] FROM  DISK = N'/backup/SqlPort2019.bak' WITH  FILE = 1,  NOUNLOAD,  STATS = 5"
            ],
            "metadata": {
                "azdata_cell_guid": "d0f679a2-b98e-422f-b8dc-d70e8dbe69ee"
            },
            "outputs": [],
            "execution_count": 0
        },
        {
            "cell_type": "markdown",
            "source": [
                "Confirm that our data is still there by running the following"
            ],
            "metadata": {
                "azdata_cell_guid": "00301103-0315-4859-b688-a66106ee1fbf"
            }
        },
        {
            "cell_type": "code",
            "source": [
                "USE SqlPort2019\n",
                "SELECT *\n",
                "FROM Person"
            ],
            "metadata": {
                "azdata_cell_guid": "f6c4e65f-255e-44df-bf18-86f75f979d81"
            },
            "outputs": [
                {
                    "output_type": "display_data",
                    "data": {
                        "text/html": "(2 rows affected)"
                    },
                    "metadata": {}
                },
                {
                    "output_type": "display_data",
                    "data": {
                        "text/html": "Total execution time: 00:00:00.127"
                    },
                    "metadata": {}
                },
                {
                    "output_type": "execute_result",
                    "metadata": {},
                    "execution_count": 17,
                    "data": {
                        "application/vnd.dataresource+json": {
                            "schema": {
                                "fields": [
                                    {
                                        "name": "Id"
                                    },
                                    {
                                        "name": "name"
                                    },
                                    {
                                        "name": "age"
                                    }
                                ]
                            },
                            "data": [
                                {
                                    "0": "1",
                                    "1": "Daniel",
                                    "2": "25"
                                },
                                {
                                    "0": "2",
                                    "1": "Zeca",
                                    "2": "40"
                                }
                            ]
                        },
                        "text/html": "<table><tr><th>Id</th><th>name</th><th>age</th></tr><tr><td>1</td><td>Daniel</td><td>25</td></tr><tr><td>2</td><td>Zeca</td><td>40</td></tr></table>"
                    }
                }
            ],
            "execution_count": 17
        },
        {
            "cell_type": "markdown",
            "source": [
                "<h1>Using the PowerShell wizard's module - <img width=\"223\" height=\"64\" src=\"https://dbatools.io/wp-content/uploads/2016/05/dbatools-logo-1.png\" class=\"custom-logo\" alt=\"dbatools\" itemprop=\"logo\"></h1>\n",
                "\n",
                "Let's start by <a href=\"command:workbench.action.terminal.sendSequence?%7B%22text%22%3A%22 clear; pwsh \\u000D %22%7D\">launching PowerShell</a>\n",
                "\n",
                "<a href=\"command:workbench.action.terminal.sendSequence?%7B%22text%22%3A%22 %24secpasswd %3d ConvertTo-SecureString \\u0022SqlPort2019\\u0022 -AsPlainText -Force\\u000A%24credentials %3d New-Object System.Management.Automation.PSCredential (\\u0022sa\\u0022%2c %24secpasswd)\\u000A Backup-DbaDatabase -IgnoreFileChecks -SqlInstance \\u0022localhost\\u0022 -SqlCredential %24credentials  -database \\u0022SqlPort2019\\u0022 -BackupDirectory \\u0022%2fbackup\\u0022 -BackupFile \\u0022SqlPort2019_dbatools.bak\\u0022 \\u000D %22%7D\">Backup through dbatools</a>\n",
                "\n",
                "```powershell\n",
                "$secpasswd = ConvertTo-SecureString \"SqlPort2019\" -AsPlainText -Force\n",
                "$credentials = New-Object System.Management.Automation.PSCredential (\"sa\", $secpasswd)\n",
                "Backup-DbaDatabase -IgnoreFileChecks -SqlInstance \"localhost\" -SqlCredential $credentials -database \"SqlPort2019\" -BackupDirectory \"/backup\" -BackupFile \"SqlPort2019_dbatools.bak\"\n",
                "```\n",
                "Repeat what has been done on the `restoring` section.\n",
                "\n",
                "<a href=\"command:workbench.action.terminal.sendSequence?%7B%22text%22%3A%22 clear \\n %24secpasswd %3d ConvertTo-SecureString \\u0022SqlPort2019\\u0022 -AsPlainText -Force\\u000A%24credentials %3d New-Object System.Management.Automation.PSCredential (\\u0022sa\\u0022%2c %24secpasswd)\\u000ARestore-DbaDatabase -SqlInstance \\u0022localhost\\u0022 -SqlCredential %24credentials -Path \\u0022%2fbackup%2fSqlPort2019_dbatools.bak\\u0022 \\u000D %22%7D\">Restore through dbatools</a>\n",
                "\n",
                "```powershell\n",
                "$secpasswd = ConvertTo-SecureString \"SqlPort2019\" -AsPlainText -Force\n",
                "$credentials = New-Object System.Management.Automation.PSCredential (\"sa\", $secpasswd)\n",
                "Restore-DbaDatabase -SqlInstance \"localhost\" -SqlCredential $credentials -Path \"/backup/SqlPort2019_dbatools.bak\" \n",
                "```"
            ],
            "metadata": {
                "azdata_cell_guid": "984dc1c5-1f3f-4540-b642-70e6ec258995"
            }
        },
        {
            "cell_type": "markdown",
            "source": [
                "<h1> Side note</h1>\n",
                "\n",
                "What happens if we try to launch a sql2017 container with a mounted volume mapped to a volume that had an instance with sql2019?\n",
                "\n",
                "<a href=\"command:workbench.action.terminal.sendSequence?%7B%22text%22%3A%22 clear \\n docker stop sql2019_w_mountedVolumes \\u000D %22%7D\">stop</a> and <a href=\"command:workbench.action.terminal.sendSequence?%7B%22text%22%3A%22 clear \\n docker rm sql2019_w_mountedVolumes \\u000D %22%7D\">remove</a> the 2019 container and <a href=\"command:workbench.action.terminal.sendSequence?%7B%22text%22%3A%22 clear \\n docker run --name \\u0027sql2017_w_mountedVolumes\\u0027 -e \\u0027ACCEPT_EULA%3dY\\u0027 -e \\u0027MSSQL_SA_PASSWORD%3dSqlPort2017\\u0027 -p 1433:1433 -v sqlPortdata:%2fvar%2fopt%2fmssql mcr.microsoft.com%2fmssql%2fserver:2017-CU1-ubuntu \\u000D %22%7D\">create one with 2017</a> (with the SQLPortdata volume mounted)"
            ],
            "metadata": {
                "azdata_cell_guid": "0e19b535-6a00-4f01-892e-04e8badceb15"
            }
        }
    ]
}